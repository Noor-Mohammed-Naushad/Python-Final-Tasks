{
 "cells": [
  {
   "cell_type": "markdown",
   "metadata": {},
   "source": [
    "<center><h1>Problem 1</h1> </center><br>\n",
    "#Write a function to compute 5/0 and use try/except to catch\n",
    "the exceptions."
   ]
  },
  {
   "cell_type": "code",
   "execution_count": 1,
   "metadata": {},
   "outputs": [],
   "source": [
    "def div():\n",
    "    return 5/0"
   ]
  },
  {
   "cell_type": "code",
   "execution_count": 2,
   "metadata": {},
   "outputs": [
    {
     "name": "stdout",
     "output_type": "stream",
     "text": [
      "Divide by 0 is not possible\n"
     ]
    }
   ],
   "source": [
    "try:\n",
    "    div()\n",
    "except:\n",
    "    print('Divide by 0 is not possible')"
   ]
  },
  {
   "cell_type": "markdown",
   "metadata": {},
   "source": [
    "<center><h1>Problem 2</h1> </center><br>\n",
    "#: Implement a Python program to generate all sentences\n",
    "where subject is in [\"Americans\",\"Indians\"] and verb is in [\"Play\",\n",
    "\"watch\"] and the object is in [\"Baseball\",\"cricket\"]"
   ]
  },
  {
   "cell_type": "code",
   "execution_count": 3,
   "metadata": {},
   "outputs": [],
   "source": [
    "sub=['Americans','Indians']\n",
    "verb=['Play','Watch']\n",
    "obj=['Baseball','Cricket']"
   ]
  },
  {
   "cell_type": "markdown",
   "metadata": {},
   "source": [
    "#By using List comprehension"
   ]
  },
  {
   "cell_type": "code",
   "execution_count": 4,
   "metadata": {},
   "outputs": [
    {
     "name": "stdout",
     "output_type": "stream",
     "text": [
      "Americans Play Baseball\n",
      "Americans Play Cricket\n",
      "Americans Watch Baseball\n",
      "Americans Watch Cricket\n",
      "Indians Play Baseball\n",
      "Indians Play Cricket\n",
      "Indians Watch Baseball\n",
      "Indians Watch Cricket\n"
     ]
    }
   ],
   "source": [
    "full_sentence=[(i+\" \"+ j + \" \" + k) for i in sub for j in verb for k in obj]\n",
    "\n",
    "for q in full_sentence:\n",
    "    print(q)"
   ]
  },
  {
   "cell_type": "markdown",
   "metadata": {},
   "source": [
    "#By using Loop"
   ]
  },
  {
   "cell_type": "code",
   "execution_count": 5,
   "metadata": {},
   "outputs": [
    {
     "name": "stdout",
     "output_type": "stream",
     "text": [
      "Americans Play Baseball\n",
      "Americans Play Cricket\n",
      "Americans Watch Baseball\n",
      "Americans Watch Cricket\n",
      "Indians Play Baseball\n",
      "Indians Play Cricket\n",
      "Indians Watch Baseball\n",
      "Indians Watch Cricket\n"
     ]
    }
   ],
   "source": [
    "for i in sub:\n",
    "    for j in verb:\n",
    "        for k in obj:\n",
    "            print(i+' '+j+' '+k)"
   ]
  },
  {
   "cell_type": "markdown",
   "metadata": {},
   "source": [
    "<center><h1>Problem 3</h1> </center><br>\n",
    "#Write a function so that the columns of the output matrix\n",
    "are powers of the input vector.The order of the powers is determined\n",
    "by the increasing boolean argument. Specifically, when increasing is\n",
    "False, the i-th output column is the input vector raised element-wise to\n",
    "the power of N - i - 1.\n"
   ]
  },
  {
   "cell_type": "code",
   "execution_count": 6,
   "metadata": {},
   "outputs": [],
   "source": [
    "def matrix(x,n,increase):\n",
    "    \n",
    "    p=[[j**(n-i-1) for i in range(n)] for j in x]\n",
    "    q=[[g**k for k in range(n)] for g in x]\n",
    "    m=[]\n",
    "    if increase==True:\n",
    "        for s in q:\n",
    "            m.append(s)\n",
    "            #print(s)\n",
    "    else:\n",
    "        for t in p:\n",
    "            m.append(t)\n",
    "            #print(t)\n",
    "    return m"
   ]
  },
  {
   "cell_type": "code",
   "execution_count": 7,
   "metadata": {},
   "outputs": [
    {
     "name": "stdout",
     "output_type": "stream",
     "text": [
      "[[1, 1, 1, 1], [27, 9, 3, 1], [125, 25, 5, 1], [216, 36, 6, 1]]\n"
     ]
    }
   ],
   "source": [
    "a=[1,3,5,6]\n",
    "N=4\n",
    "increasing=False\n",
    "\n",
    "z=matrix(a,4,increasing)\n",
    "print(z)"
   ]
  },
  {
   "cell_type": "code",
   "execution_count": 8,
   "metadata": {},
   "outputs": [
    {
     "name": "stdout",
     "output_type": "stream",
     "text": [
      "[1, 1, 1, 1]\n",
      "[27, 9, 3, 1]\n",
      "[125, 25, 5, 1]\n",
      "[216, 36, 6, 1]\n"
     ]
    }
   ],
   "source": [
    "for h in z:\n",
    "    print(h)  #for matrix view"
   ]
  },
  {
   "cell_type": "markdown",
   "metadata": {},
   "source": [
    "#By using Numpy array"
   ]
  },
  {
   "cell_type": "code",
   "execution_count": 9,
   "metadata": {},
   "outputs": [
    {
     "data": {
      "text/plain": [
       "array([[  1,   1,   1,   1],\n",
       "       [ 27,   9,   3,   1],\n",
       "       [125,  25,   5,   1],\n",
       "       [216,  36,   6,   1]])"
      ]
     },
     "execution_count": 9,
     "metadata": {},
     "output_type": "execute_result"
    }
   ],
   "source": [
    "import numpy as np\n",
    "a=np.array([1,3,5,6])\n",
    "N=4\n",
    "\n",
    "np.vander(a,N,increasing=False)"
   ]
  },
  {
   "cell_type": "markdown",
   "metadata": {},
   "source": [
    "<center><h1>Problem 4</h1> </center><br>\n",
    "#Write a Python Program to implement your own myreduce()\n",
    "function which works exactly like Python's built-in function reduce()"
   ]
  },
  {
   "cell_type": "code",
   "execution_count": 10,
   "metadata": {},
   "outputs": [
    {
     "name": "stdout",
     "output_type": "stream",
     "text": [
      "58\n"
     ]
    }
   ],
   "source": [
    "def sum1(a1, a2): \n",
    "    return a1 + a2\n",
    "\n",
    "def myreduce(fun,val):\n",
    "    x = val[0]\n",
    "    \n",
    "    for i in val[1:]:\n",
    "        x=fun(x,i)\n",
    "    return x\n",
    "\n",
    "rd=myreduce(sum1, [10,12,9,8,3,16])\n",
    "print(rd)\n"
   ]
  },
  {
   "cell_type": "markdown",
   "metadata": {},
   "source": [
    "<center><h1>Problem 5</h1> </center><br>\n",
    "#Write a Python program to implement your own myfilter()\n",
    "function which works exactly like Python's built-in function filter()"
   ]
  },
  {
   "cell_type": "code",
   "execution_count": 11,
   "metadata": {},
   "outputs": [],
   "source": [
    "def oddc(j):    \n",
    "    if (j%2!=0):\n",
    "        return True "
   ]
  },
  {
   "cell_type": "code",
   "execution_count": 12,
   "metadata": {},
   "outputs": [],
   "source": [
    "def myfilter(func,array):\n",
    "    m=[]\n",
    "    for i in array:\n",
    "        if func(i):     #if func(i) is true then the 'if' condition will execute\n",
    "            m.append(i)\n",
    "    return m"
   ]
  },
  {
   "cell_type": "code",
   "execution_count": 13,
   "metadata": {},
   "outputs": [
    {
     "name": "stdout",
     "output_type": "stream",
     "text": [
      "[1, 3, 5]\n"
     ]
    }
   ],
   "source": [
    "x=myfilter(oddc,[1,2,3,4,5,6])\n",
    "print(x)"
   ]
  },
  {
   "cell_type": "markdown",
   "metadata": {},
   "source": [
    "<center><h1>Problem 6</h1> </center><br>\n",
    "#Implement List comprehensions to produce the following\n",
    "lists.Write List comprehensions to produce the following Lists\n",
    "\n",
    "['A', 'C', 'A', 'D', 'G', 'I', ’L’, ‘ D’]\n",
    "\n",
    "['x', 'xx', 'xxx', 'xxxx', 'y', 'yy', 'yyy', 'yyyy', 'z', 'zz', 'zzz', 'zzzz']\n",
    "\n",
    "['x', 'y', 'z', 'xx', 'yy', 'zz', 'xxx', 'yyy', 'zzz', 'xxxx', 'yyyy', 'zzzz']\n",
    "\n",
    "[[2], [3], [4], [3], [4], [5], [4], [5], [6]]\n",
    "\n",
    "[[2, 3, 4, 5], [3, 4, 5, 6], [4, 5, 6, 7], [5, 6, 7, 8]]\n",
    "\n",
    "[(1, 1), (2, 1), (3, 1), (1, 2), (2, 2), (3, 2), (1, 3), (2, 3), (3, 3)]\n"
   ]
  },
  {
   "cell_type": "code",
   "execution_count": 14,
   "metadata": {},
   "outputs": [
    {
     "name": "stdout",
     "output_type": "stream",
     "text": [
      "['A', 'C', 'A', 'D', 'G', 'I', 'L', 'D']\n"
     ]
    }
   ],
   "source": [
    "#['A', 'C', 'A', 'D', 'G', 'I', ’L’, ‘ D’]\n",
    "a='ACADGILD'\n",
    "x=[i for i in a]\n",
    "print(x)"
   ]
  },
  {
   "cell_type": "code",
   "execution_count": 15,
   "metadata": {},
   "outputs": [
    {
     "name": "stdout",
     "output_type": "stream",
     "text": [
      "['x', 'xx', 'xxx', 'xxxx', 'y', 'yy', 'yyy', 'yyyy', 'z', 'zz', 'zzz', 'zzzz']\n"
     ]
    }
   ],
   "source": [
    "#['x', 'xx', 'xxx', 'xxxx', 'y', 'yy', 'yyy', 'yyyy', 'z', 'zz', 'zzz', 'zzzz']\n",
    "b=['x','y','z']\n",
    "m=[j+j*k for j in b for k in range(4)]\n",
    "print(m)"
   ]
  },
  {
   "cell_type": "code",
   "execution_count": 16,
   "metadata": {},
   "outputs": [
    {
     "name": "stdout",
     "output_type": "stream",
     "text": [
      "['x', 'y', 'z', 'xx', 'yy', 'zz', 'xxx', 'yyy', 'zzz', 'xxxx', 'yyyy', 'zzzz']\n"
     ]
    }
   ],
   "source": [
    "#['x', 'y', 'z', 'xx', 'yy', 'zz', 'xx', 'yy', 'zz', 'xxxx', 'yyyy', 'zzzz']\n",
    "c=['x','y','z']\n",
    "n=[j+j*i for i in range(4) for j in c]\n",
    "print(n)"
   ]
  },
  {
   "cell_type": "code",
   "execution_count": 17,
   "metadata": {},
   "outputs": [
    {
     "name": "stdout",
     "output_type": "stream",
     "text": [
      "[[2], [3], [4], [3], [4], [5], [4], [5], [6]]\n"
     ]
    }
   ],
   "source": [
    "#[[2], [3], [4], [3], [4], [5], [4], [5], [6]]\n",
    "x=[2,3,4]\n",
    "y=[[j+i] for i in range(3) for j in x]\n",
    "print(y)"
   ]
  },
  {
   "cell_type": "code",
   "execution_count": 18,
   "metadata": {},
   "outputs": [
    {
     "name": "stdout",
     "output_type": "stream",
     "text": [
      "[[2, 3, 4, 5], [3, 4, 5, 6], [4, 5, 6, 7], [5, 6, 7, 8]]\n"
     ]
    }
   ],
   "source": [
    "#[[2, 3, 4, 5], [3, 4, 5, 6], [4, 5, 6, 7], [5, 6, 7, 8]]\n",
    "q=[2,3,4,5]\n",
    "z=[[j+i for i in range(4)] for j in q]\n",
    "print(z)"
   ]
  },
  {
   "cell_type": "code",
   "execution_count": 19,
   "metadata": {},
   "outputs": [
    {
     "name": "stdout",
     "output_type": "stream",
     "text": [
      "[(1, 1), (2, 1), (3, 1), (1, 2), (2, 2), (3, 2), (1, 3), (2, 3), (3, 3)]\n"
     ]
    }
   ],
   "source": [
    "#[(1, 1), (2, 1), (3, 1), (1, 2), (2, 2), (3, 2), (1, 3), (2, 3), (3, 3)]\n",
    "x=[1,2,3]\n",
    "f=[(j,i) for i in range(1,4) for j in x]\n",
    "print(f)"
   ]
  },
  {
   "cell_type": "markdown",
   "metadata": {},
   "source": [
    "<center><h1>Problem 7</h1> </center><br>\n",
    "#Implement a function longestWord() that takes a list of\n",
    "words and returns the longest one."
   ]
  },
  {
   "cell_type": "code",
   "execution_count": 20,
   "metadata": {},
   "outputs": [
    {
     "name": "stdout",
     "output_type": "stream",
     "text": [
      "noor mohammed\n"
     ]
    }
   ],
   "source": [
    "def longestWord(x):\n",
    "    p=len(x)\n",
    "    for i in range(p-1):\n",
    "        if len(x[i])>=len(x[i+1]):\n",
    "            k=x[i+1]=x[i]\n",
    "        else:\n",
    "            k=x[i+1]=x[i+1]\n",
    "    return k\n",
    "\n",
    "s=longestWord(['4aaaaaaaaa','a','asdd','kkkkkk','as','noor mohammed','Naushad'])\n",
    "print(s)"
   ]
  },
  {
   "cell_type": "code",
   "execution_count": 21,
   "metadata": {},
   "outputs": [
    {
     "name": "stdout",
     "output_type": "stream",
     "text": [
      "noor mohammed\n"
     ]
    }
   ],
   "source": [
    "#By using sort function\n",
    "\n",
    "def longestword(y):\n",
    "    y.sort()\n",
    "    return y[-1]\n",
    "\n",
    "s=longestWord(['4aaaaaaaaa','a','asdd','kkkkkk','as','noor mohammed','Naushad'])\n",
    "print(s)"
   ]
  },
  {
   "cell_type": "markdown",
   "metadata": {},
   "source": [
    "<center><h1>Problem 8</h1> </center><br>\n",
    "#Write a Python Program(with class concepts) to find the\n",
    "area of the triangle using the below formula.\n",
    "area = (s*(s-a)*(s-b)*(s-c)) ** 0.5\n",
    "Function to take the length of the sides of triangle from user should be\n",
    "defined in the parent class and function to calculate the area should be\n",
    "defined in subclass."
   ]
  },
  {
   "cell_type": "code",
   "execution_count": 22,
   "metadata": {},
   "outputs": [],
   "source": [
    "class triangle:\n",
    "    def __init__(val,a,b,c):\n",
    "        \n",
    "        val.side1=a\n",
    "        val.side2=b\n",
    "        val.side3=c\n",
    "        "
   ]
  },
  {
   "cell_type": "code",
   "execution_count": 23,
   "metadata": {},
   "outputs": [],
   "source": [
    "class areaclc(triangle):\n",
    "    def __init__(p,*args):\n",
    "        \n",
    "        super(areaclc,p).__init__(*args)\n",
    "        s=(p.side1+p.side2+p.side3)/2\n",
    "        p.area=(s*(s-p.side1)*(s-p.side2)*(s-p.side3))**.5"
   ]
  },
  {
   "cell_type": "code",
   "execution_count": 24,
   "metadata": {},
   "outputs": [
    {
     "data": {
      "text/plain": [
       "10.825317547305483"
      ]
     },
     "execution_count": 24,
     "metadata": {},
     "output_type": "execute_result"
    }
   ],
   "source": [
    "t2=triangle(7,8,9)\n",
    "t1=areaclc(5,5,5)\n",
    "t1.area"
   ]
  },
  {
   "cell_type": "markdown",
   "metadata": {},
   "source": [
    "<center><h1>Problem 9</h1> </center><br>\n",
    "#: Write a function filter_long_words() that takes a list of\n",
    "words and an integer n and returns the list of words that are longer\n",
    "than n.\n"
   ]
  },
  {
   "cell_type": "code",
   "execution_count": 25,
   "metadata": {},
   "outputs": [
    {
     "name": "stdout",
     "output_type": "stream",
     "text": [
      "['asdd', 'kjhyuu', 'kljj', 'lkjhuudd']\n"
     ]
    }
   ],
   "source": [
    "def filter_long_word(x,n):\n",
    "    q=len(x)\n",
    "    m=[]\n",
    "    for i in range(q):\n",
    "        if len(x[i])>n:\n",
    "            m.append(x[i])\n",
    "    return m\n",
    "\n",
    "s=['aaa','asdd','kjhyuu','kljj','a','lkjhuudd','lks']\n",
    "k=filter_long_word(s,3)\n",
    "print(k)"
   ]
  },
  {
   "cell_type": "markdown",
   "metadata": {},
   "source": [
    "<center><h1>Problem 10</h1> </center><br>\n",
    "#Write a Python program using function concept that maps\n",
    "list of words into a list of integers representing the lengths of the\n",
    "corresponding words .\n",
    "\n",
    "Hint: If a list [ ab,cde,erty] is passed on to the python function output\n",
    "should come as [2,3,4]"
   ]
  },
  {
   "cell_type": "code",
   "execution_count": 26,
   "metadata": {},
   "outputs": [],
   "source": [
    "def func(a):\n",
    "    return len(a)\n",
    "\n",
    "p=['aa','asd','qqqqq','Noor Mohammed','Naushad']\n"
   ]
  },
  {
   "cell_type": "code",
   "execution_count": 27,
   "metadata": {},
   "outputs": [
    {
     "name": "stdout",
     "output_type": "stream",
     "text": [
      "[2, 3, 5, 13, 7]\n"
     ]
    }
   ],
   "source": [
    "#By using map function\n",
    "x=list(map(func,p))\n",
    "print(x)"
   ]
  },
  {
   "cell_type": "code",
   "execution_count": 28,
   "metadata": {},
   "outputs": [
    {
     "name": "stdout",
     "output_type": "stream",
     "text": [
      "[2, 3, 5, 13, 7]\n"
     ]
    }
   ],
   "source": [
    "#By using list comprehension\n",
    "s=[func(i) for i in p] \n",
    "print(s)"
   ]
  },
  {
   "cell_type": "markdown",
   "metadata": {},
   "source": [
    "<center><h1>Problem 11</h1> </center><br>\n",
    "#Write a Python function which takes a character (i.e. a\n",
    "string of length 1) and returns True if it is a vowel, False otherwise."
   ]
  },
  {
   "cell_type": "code",
   "execution_count": 29,
   "metadata": {},
   "outputs": [],
   "source": [
    "def vowelcheck(x):\n",
    "    p=['a','e','i','o','u']\n",
    "    x=x.lower()\n",
    "    return x in p\n"
   ]
  },
  {
   "cell_type": "code",
   "execution_count": 30,
   "metadata": {},
   "outputs": [
    {
     "name": "stdout",
     "output_type": "stream",
     "text": [
      "True\n"
     ]
    }
   ],
   "source": [
    "z=vowelcheck('u')\n",
    "print(z)"
   ]
  },
  {
   "cell_type": "code",
   "execution_count": 31,
   "metadata": {},
   "outputs": [],
   "source": [
    "#Another technique to check vowel\n",
    "\n",
    "def isvowel(y):\n",
    "    y=y.lower()\n",
    "    if y =='a' or y=='e' or y=='i' or y=='o' or y=='u':\n",
    "        return True\n",
    "    else:\n",
    "        return False"
   ]
  },
  {
   "cell_type": "code",
   "execution_count": 32,
   "metadata": {},
   "outputs": [
    {
     "name": "stdout",
     "output_type": "stream",
     "text": [
      "False\n"
     ]
    }
   ],
   "source": [
    "f=isvowel('k')\n",
    "print(f)"
   ]
  }
 ],
 "metadata": {
  "kernelspec": {
   "display_name": "Python 3",
   "language": "python",
   "name": "python3"
  },
  "language_info": {
   "codemirror_mode": {
    "name": "ipython",
    "version": 3
   },
   "file_extension": ".py",
   "mimetype": "text/x-python",
   "name": "python",
   "nbconvert_exporter": "python",
   "pygments_lexer": "ipython3",
   "version": "3.7.6"
  }
 },
 "nbformat": 4,
 "nbformat_minor": 4
}
